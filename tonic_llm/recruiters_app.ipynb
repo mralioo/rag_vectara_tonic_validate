{
 "cells": [
  {
   "cell_type": "code",
   "id": "initial_id",
   "metadata": {
    "collapsed": true,
    "ExecuteTime": {
     "end_time": "2024-04-17T16:50:09.119709Z",
     "start_time": "2024-04-17T16:50:09.101688Z"
    }
   },
   "source": [
    "import requests\n",
    "\n",
    "def query_api(company, prompt):\n",
    "    url = \"https://api.vectara.io/v1/query\"\n",
    "    payload = {\n",
    "        \"query\": [\n",
    "            {\n",
    "                \"query\": prompt,\n",
    "                \"queryContext\": \"\",\n",
    "                \"start\": 0,\n",
    "                \"numResults\": 1,\n",
    "                \"contextConfig\": {\n",
    "                    \"charsBefore\": 0,\n",
    "                    \"charsAfter\": 0,\n",
    "                    \"sentencesBefore\": 2,\n",
    "                    \"sentencesAfter\": 2,\n",
    "                    \"startTag\": \"%START_SNIPPET%\",\n",
    "                    \"endTag\": \"%END_SNIPPET%\",\n",
    "                },\n",
    "                \"corpusKey\": [\n",
    "                    {\n",
    "                        \"customerId\": \"43437896\",\n",
    "                        \"corpusId\": 2,\n",
    "                        \"semantics\": 0,\n",
    "                        # \"metadataFilter\": f\"doc.Company='{company}'\",\n",
    "                        \"lexicalInterpolationConfig\": {\"lambda\": 1},\n",
    "                        \"dim\": [],\n",
    "                    }\n",
    "                ],\n",
    "                \"summary\": [\n",
    "                    {\n",
    "                        \"debug\": False,\n",
    "                        \"chat\": {\"store\": True, \"conversationId\": \"\"},\n",
    "                        \"maxSummarizedResults\": 3,\n",
    "                        \"responseLang\": \"eng\",\n",
    "                        \"summarizerPromptName\": \"vectara-summary-ext-v1.2.0\",\n",
    "                        \"factualConsistencyScore\": True,\n",
    "                    }\n",
    "                ],\n",
    "            }\n",
    "        ]\n",
    "    }\n",
    "\n",
    "    headers = {\n",
    "        \"Content-Type\": \"application/json\",\n",
    "        \"Accept\": \"application/json\",\n",
    "        \"x-api-key\": \"zwt_ApbPSAKP2pwNkh7GwzOg7dNP2f94ng3G9_3FLA\",\n",
    "        \"customer-id\": \"43437896\",\n",
    "    }\n",
    "    \n",
    "    \n",
    "    \n",
    "    try:\n",
    "        response = requests.post(url, headers=headers, json=payload)\n",
    "        if response.status_code == 200:\n",
    "            return response.json()\n",
    "        else:\n",
    "            print(\"Error:\", response.text)\n",
    "            return None\n",
    "    except Exception as e:\n",
    "        print(\"Error:\", str(e))\n",
    "        return None\n"
   ],
   "outputs": [],
   "execution_count": 32
  },
  {
   "metadata": {
    "ExecuteTime": {
     "end_time": "2024-04-17T16:50:12.545188Z",
     "start_time": "2024-04-17T16:50:09.682806Z"
    }
   },
   "cell_type": "code",
   "source": [
    "# Example usage:\n",
    "company_name = \"gitlab\"\n",
    "prompt_name = \"how to create an account\"\n",
    "result = query_api(company_name, prompt_name)"
   ],
   "id": "9ad4919387294c69",
   "outputs": [],
   "execution_count": 33
  },
  {
   "metadata": {
    "ExecuteTime": {
     "end_time": "2024-04-17T16:50:12.561191Z",
     "start_time": "2024-04-17T16:50:12.546224Z"
    }
   },
   "cell_type": "code",
   "source": "result",
   "id": "9caccd6a8f772bd1",
   "outputs": [
    {
     "data": {
      "text/plain": [
       "{'responseSet': [{'response': [{'text': \"Mark Pincus has kept control of Zynga's too. But are these just outliers? %START_SNIPPET%How common is it for founders to keep control after an A round?%END_SNIPPET% I'd heard of several cases among the companies we've funded, but I wasn't sure how many there were, so I emailed the ycfounders list. The replies surprised me.\",\n",
       "     'score': 11.926043,\n",
       "     'metadata': [{'name': 'lang', 'value': 'eng'},\n",
       "      {'name': 'section', 'value': '1'},\n",
       "      {'name': 'offset', 'value': '794'},\n",
       "      {'name': 'len', 'value': '63'}],\n",
       "     'documentIndex': 0,\n",
       "     'corpusKey': {'customerId': 0,\n",
       "      'corpusId': 2,\n",
       "      'semantics': 'DEFAULT',\n",
       "      'dim': [],\n",
       "      'metadataFilter': '',\n",
       "      'lexicalInterpolationConfig': None},\n",
       "     'resultOffset': 89,\n",
       "     'resultLength': 63}],\n",
       "   'status': [],\n",
       "   'document': [{'id': 'control.txt',\n",
       "     'metadata': [{'name': 'X-TIKA:Parsed-By',\n",
       "       'value': 'org.apache.tika.parser.csv.TextAndCSVParser'},\n",
       "      {'name': 'Content-Encoding', 'value': 'UTF-8'},\n",
       "      {'name': 'Content-Type', 'value': 'text/plain; charset=UTF-8'}]}],\n",
       "   'summary': [{'text': 'Creating an account typically involves following certain steps. One key aspect might be retaining control of a company after a funding round, as seen in the case of Zynga. The founder of Zynga, Mark Pincus, managed to maintain control despite the usual practice of dilution after fundraising. This scenario raises the question of how common it is for founders to retain control post-funding. An investigation into this matter revealed surprising feedback from the ycfounders list, indicating that there may be more cases of founders maintaining control than expected [1].',\n",
       "     'lang': 'eng',\n",
       "     'prompt': '',\n",
       "     'chat': {'conversationId': '6482bd2e-3929-47e1-9214-914a651b83f1',\n",
       "      'turnId': '6482bd2e-3929-47e1-9214-914a651b83f1',\n",
       "      'rephrasedQuery': '',\n",
       "      'status': None},\n",
       "     'factualConsistency': {'score': 0.41796625,\n",
       "      'status': {'code': 'OK', 'statusDetail': '', 'cause': None}},\n",
       "     'done': True,\n",
       "     'status': [],\n",
       "     'futureId': 2}],\n",
       "   'futureId': 1}],\n",
       " 'status': [],\n",
       " 'metrics': None}"
      ]
     },
     "execution_count": 34,
     "metadata": {},
     "output_type": "execute_result"
    }
   ],
   "execution_count": 34
  },
  {
   "metadata": {},
   "cell_type": "code",
   "outputs": [],
   "execution_count": null,
   "source": [
    "\n",
    "api_key_header = {\n",
    "    \"customer-id\": 43437896,\n",
    "    \"x-api-key\": \"zwt_ApbPSAKP2pwNkh7GwzOg7dNP2f94ng3G9_3FLA\"\n",
    "}\n",
    " \n",
    "data_dict = {\n",
    "    \"query\": [\n",
    "        {\n",
    "            \"query\": \"What is the meaning of life?\",\n",
    "            \"num_results\": 1,\n",
    "            \"corpus_key\": [\n",
    "                {\n",
    "                    \"customer_id\": api_key_header[\"customer-id\"],\n",
    "                    \"corpus_id\": api_key_header[\"x-api-key\"]\n",
    "                }\n",
    "            ]\n",
    "        }\n",
    "    ]\n",
    "}\n",
    "payload = json.dumps(data_dict)\n",
    "response = requests.post(\n",
    "    \"https://api.vectara.io/v1/query\",\n",
    "    data=payload,\n",
    "    verify=True,\n",
    "    headers=api_key_header)"
   ],
   "id": "66172e352c9b58d"
  },
  {
   "metadata": {
    "ExecuteTime": {
     "end_time": "2024-04-18T03:31:41.353406Z",
     "start_time": "2024-04-18T03:31:41.323046Z"
    }
   },
   "cell_type": "code",
   "source": [
    "import argparse\n",
    "import json\n",
    "import logging\n",
    "import sys\n",
    "\n",
    "import requests\n",
    "\n",
    "def _get_query_json(customer_id: int, corpus_id: int, query_value: str):\n",
    "    \"\"\"Returns a query JSON.\"\"\"\n",
    "    query = {\n",
    "        \"query\": [\n",
    "            {\n",
    "                \"query\": query_value,\n",
    "                \"num_results\": 10,\n",
    "                \"corpus_key\": [{\"customer_id\": customer_id, \"corpus_id\": corpus_id}],\n",
    "            },\n",
    "        ],\n",
    "    }\n",
    "    return json.dumps(query)\n"
   ],
   "id": "749d63ae6e177bef",
   "outputs": [],
   "execution_count": 35
  },
  {
   "metadata": {
    "ExecuteTime": {
     "end_time": "2024-04-18T03:44:40.695182Z",
     "start_time": "2024-04-18T03:44:40.667146Z"
    }
   },
   "cell_type": "code",
   "source": [
    "def query(customer_id: int, corpus_id: int, query_address: str, api_key: str, query: str):\n",
    "    \"\"\"Queries the data.\n",
    "\n",
    "    Args:\n",
    "        customer_id: Unique customer ID in vectara platform.\n",
    "        corpus_id: ID of the corpus to which data needs to be indexed.\n",
    "        query_address: Address of the querying server. e.g., api.vectara.io\n",
    "        api_key: A valid API key with query access on the corpus.\n",
    "\n",
    "    Returns:\n",
    "        (response, True) in case of success and returns (error, False) in case of failure.\n",
    "    \"\"\"\n",
    "    post_headers = {\n",
    "        \"customer-id\": f\"{customer_id}\",\n",
    "        \"x-api-key\": api_key\n",
    "    }\n",
    "\n",
    "    response = requests.post(\n",
    "        f\"https://{query_address}/v1/query\",\n",
    "        data=_get_query_json(customer_id, corpus_id, query),\n",
    "        verify=True,\n",
    "        headers=post_headers)\n",
    "\n",
    "    if response.status_code != 200:\n",
    "        logging.error(\"Query failed with code %d, reason %s, text %s\",\n",
    "                       response.status_code,\n",
    "                       response.reason,\n",
    "                       response.text)\n",
    "        return response, False\n",
    "\n",
    "    message = response.json()\n",
    "    if (message[\"status\"] and\n",
    "        any(status[\"code\"] != \"OK\" for status in message[\"status\"])):\n",
    "        logging.error(\"Query failed with status: %s\", message[\"status\"])\n",
    "        return message[\"status\"], False\n",
    "\n",
    "    for response_set in message[\"responseSet\"]:\n",
    "        for status in response_set[\"status\"]:\n",
    "            if status[\"code\"] != \"OK\":\n",
    "                return status, False\n",
    "\n",
    "    return message, True"
   ],
   "id": "ed77a061e7d43cad",
   "outputs": [],
   "execution_count": 36
  },
  {
   "metadata": {
    "ExecuteTime": {
     "end_time": "2024-04-18T04:03:56.176623Z",
     "start_time": "2024-04-18T04:03:56.133649Z"
    }
   },
   "cell_type": "code",
   "source": [
    "logging.basicConfig(\n",
    "        format=\"%(asctime)s %(levelname)-8s %(message)s\", level=logging.INFO)\n",
    "\n",
    "customer_id = 43437896\n",
    "corpus_id = 3\n",
    "serving_endpoint = \"api.vectara.io\"\n",
    "api_key = \"zwt_ApbPSAKP2pwNkh7GwzOg7dNP2f94ng3G9_3FLA\"\n",
    "query = \"Test query\"\n",
    "\n",
    "response, status = query(customer_id,\n",
    "                         corpus_id,\n",
    "                         serving_endpoint,\n",
    "                         api_key,\n",
    "                         query)\n",
    "\n",
    "logging.info(\"Query response: %s\", response)"
   ],
   "id": "cf15d0ca6aa50721",
   "outputs": [
    {
     "ename": "TypeError",
     "evalue": "'str' object is not callable",
     "output_type": "error",
     "traceback": [
      "\u001B[1;31m---------------------------------------------------------------------------\u001B[0m",
      "\u001B[1;31mTypeError\u001B[0m                                 Traceback (most recent call last)",
      "Cell \u001B[1;32mIn[38], line 10\u001B[0m\n\u001B[0;32m      7\u001B[0m api_key \u001B[38;5;241m=\u001B[39m \u001B[38;5;124m\"\u001B[39m\u001B[38;5;124mzwt_ApbPSAKP2pwNkh7GwzOg7dNP2f94ng3G9_3FLA\u001B[39m\u001B[38;5;124m\"\u001B[39m\n\u001B[0;32m      8\u001B[0m query \u001B[38;5;241m=\u001B[39m \u001B[38;5;124m\"\u001B[39m\u001B[38;5;124mTest query\u001B[39m\u001B[38;5;124m\"\u001B[39m\n\u001B[1;32m---> 10\u001B[0m response, status \u001B[38;5;241m=\u001B[39m \u001B[43mquery\u001B[49m\u001B[43m(\u001B[49m\u001B[43mcustomer_id\u001B[49m\u001B[43m,\u001B[49m\n\u001B[0;32m     11\u001B[0m \u001B[43m                         \u001B[49m\u001B[43mcorpus_id\u001B[49m\u001B[43m,\u001B[49m\n\u001B[0;32m     12\u001B[0m \u001B[43m                         \u001B[49m\u001B[43mserving_endpoint\u001B[49m\u001B[43m,\u001B[49m\n\u001B[0;32m     13\u001B[0m \u001B[43m                         \u001B[49m\u001B[43mapi_key\u001B[49m\u001B[43m,\u001B[49m\n\u001B[0;32m     14\u001B[0m \u001B[43m                         \u001B[49m\u001B[43mquery\u001B[49m\u001B[43m)\u001B[49m\n\u001B[0;32m     16\u001B[0m logging\u001B[38;5;241m.\u001B[39minfo(\u001B[38;5;124m\"\u001B[39m\u001B[38;5;124mQuery response: \u001B[39m\u001B[38;5;132;01m%s\u001B[39;00m\u001B[38;5;124m\"\u001B[39m, response)\n",
      "\u001B[1;31mTypeError\u001B[0m: 'str' object is not callable"
     ]
    }
   ],
   "execution_count": 38
  },
  {
   "metadata": {},
   "cell_type": "code",
   "outputs": [],
   "execution_count": null,
   "source": "",
   "id": "fe77d1fbf5e38c39"
  }
 ],
 "metadata": {
  "kernelspec": {
   "display_name": "Python 3",
   "language": "python",
   "name": "python3"
  },
  "language_info": {
   "codemirror_mode": {
    "name": "ipython",
    "version": 2
   },
   "file_extension": ".py",
   "mimetype": "text/x-python",
   "name": "python",
   "nbconvert_exporter": "python",
   "pygments_lexer": "ipython2",
   "version": "2.7.6"
  }
 },
 "nbformat": 4,
 "nbformat_minor": 5
}
